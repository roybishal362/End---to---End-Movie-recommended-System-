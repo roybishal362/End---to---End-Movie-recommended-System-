{
 "cells": [
  {
   "cell_type": "code",
   "execution_count": 29,
   "id": "43335b4e-d5b3-454b-8ff0-dd5cb8924aec",
   "metadata": {},
   "outputs": [],
   "source": [
    "# Import necessary libraries\n",
    "import pandas as pd\n",
    "from sklearn.metrics.pairwise import cosine_similarity\n",
    "from sklearn.feature_extraction.text import CountVectorizer"
   ]
  },
  {
   "cell_type": "code",
   "execution_count": 30,
   "id": "c328dbcf-c183-4a1b-b487-7295102f888e",
   "metadata": {},
   "outputs": [],
   "source": [
    "# Load the dataset (assuming 'movies.csv' contains the relevant movie information)\n",
    "movies_df = pd.read_csv('Data/TMDB_movie_dataset_v11.csv')\n",
    "\n",
    "# Create combined features for content-based filtering using title and genres\n",
    "movies_df['combined_features'] = movies_df['title'] + \" \" + movies_df['genres']"
   ]
  },
  {
   "cell_type": "code",
   "execution_count": 31,
   "id": "7baf753a-9bf4-45da-8cb8-07c646f23736",
   "metadata": {},
   "outputs": [],
   "source": [
    "# Handle NaN values by filling them with appropriate defaults\n",
    "movies_df['title'] = movies_df['title'].fillna('')\n",
    "movies_df['genres'] = movies_df['genres'].fillna('')\n",
    "movies_df['release_date'] = movies_df['release_date'].fillna('')  # assuming 'release_date' is a string\n",
    "movies_df['popularity'] = movies_df['popularity'].fillna(0)  # assuming popularity is numerical\n",
    "movies_df['vote_average'] = movies_df['vote_average'].fillna(0)  # assuming vote average is numerical"
   ]
  },
  {
   "cell_type": "code",
   "execution_count": 32,
   "id": "f6d8313b-f976-4378-a099-817cab85b22b",
   "metadata": {},
   "outputs": [],
   "source": [
    "# Convert 'release_date' to datetime and extract the year\n",
    "movies_df['release_date'] = pd.to_datetime(movies_df['release_date'], errors='coerce')  # Converts invalid dates to NaT\n",
    "movies_df['release_year'] = movies_df['release_date'].dt.year.fillna(0).astype(int)  # Extract year from date and handle NaN\n"
   ]
  },
  {
   "cell_type": "code",
   "execution_count": 33,
   "id": "64c63d74-7c67-43c7-ac88-f856c3996145",
   "metadata": {},
   "outputs": [],
   "source": [
    "# Function to recommend movies based on the title (using cosine similarity)\n",
    "def recommend_by_title(movie_title, df, top_n=10):\n",
    "    # Vectorize the combined features to create a count matrix\n",
    "    count_matrix = CountVectorizer().fit_transform(df['combined_features'])\n",
    "    cosine_sim = cosine_similarity(count_matrix)\n",
    "    \n",
    "    # Check if the movie exists in the dataset\n",
    "    if movie_title not in df['title'].values:\n",
    "        return f\"Movie '{movie_title}' not found in the dataset.\"\n",
    "\n",
    "    movie_index = df[df['title'] == movie_title].index[0]\n",
    "    similar_movies = list(enumerate(cosine_sim[movie_index]))\n",
    "    sorted_similar_movies = sorted(similar_movies, key=lambda x: x[1], reverse=True)[1:top_n+1]\n",
    "    \n",
    "    recommendations = []\n",
    "    for movie in sorted_similar_movies:\n",
    "        recommendations.append(df['title'].iloc[movie[0]])\n",
    "    return recommendations"
   ]
  },
  {
   "cell_type": "code",
   "execution_count": 34,
   "id": "c4be12a5-89fb-4460-b3a0-3d92a19a2683",
   "metadata": {},
   "outputs": [],
   "source": [
    "# Filtering by release date\n",
    "def filter_by_release_date(df, start_year=None, end_year=None):\n",
    "    if start_year and end_year:\n",
    "        filtered_df = df[(df['release_year'] >= start_year) & (df['release_year'] <= end_year)]\n",
    "    elif start_year:\n",
    "        filtered_df = df[df['release_year'] >= start_year]\n",
    "    elif end_year:\n",
    "        filtered_df = df[df['release_year'] <= end_year]\n",
    "    else:\n",
    "        filtered_df = df\n",
    "    return filtered_df"
   ]
  },
  {
   "cell_type": "code",
   "execution_count": 35,
   "id": "acfc2b44-f5de-43e5-9d10-9cae1185f57b",
   "metadata": {},
   "outputs": [],
   "source": [
    "# Filtering by popularity\n",
    "def filter_by_popularity(df, min_popularity=None):\n",
    "    if min_popularity:\n",
    "        return df[df['popularity'] >= min_popularity]\n",
    "    return df\n"
   ]
  },
  {
   "cell_type": "code",
   "execution_count": 36,
   "id": "3f234c19-44c0-49a6-b2ee-916b18500330",
   "metadata": {},
   "outputs": [],
   "source": [
    "\n",
    "# Filtering by genre\n",
    "def filter_by_genre(df, genres):\n",
    "    # Filter rows where any of the selected genres match\n",
    "    return df[df['genres'].apply(lambda x: any(genre in x for genre in genres))]"
   ]
  },
  {
   "cell_type": "code",
   "execution_count": 37,
   "id": "26702267-0b23-48bf-bbbe-db11d0472ecf",
   "metadata": {},
   "outputs": [],
   "source": [
    "\n",
    "\n",
    "# Filtering by vote average\n",
    "def filter_by_vote_average(df, min_vote=7.0):\n",
    "    return df[df['vote_average'] >= min_vote]\n"
   ]
  },
  {
   "cell_type": "code",
   "execution_count": 38,
   "id": "b598c76e-fa20-4368-aa7f-ff275d5e8fc0",
   "metadata": {},
   "outputs": [],
   "source": [
    "# --- Individual Recommendation Functions ---\n",
    "\n",
    "def recommend_by_release_date(year, df, n_recommendations=5):\n",
    "    filtered_movies = df[df['release_year'] == year]\n",
    "    return filtered_movies.nlargest(n_recommendations, 'popularity')['title'].tolist()\n",
    "\n",
    "def recommend_by_popularity(min_popularity, df, n_recommendations=5):\n",
    "    filtered_movies = df[df['popularity'] >= min_popularity]\n",
    "    return filtered_movies.nlargest(n_recommendations, 'popularity')['title'].tolist()\n",
    "\n",
    "def recommend_by_genre(genres, df, n_recommendations=5):\n",
    "    filtered_movies = filter_by_genre(df, genres)\n",
    "    return filtered_movies.nlargest(n_recommendations, 'popularity')['title'].tolist()\n",
    "\n",
    "def recommend_by_vote_average(min_vote, df, n_recommendations=5):\n",
    "    filtered_movies = filter_by_vote_average(df, min_vote)\n",
    "    return filtered_movies.nlargest(n_recommendations, 'popularity')['title'].tolist()\n",
    "\n",
    "def recommend_by_title(movie_title, df, n_recommendations=5):\n",
    "    # Check if the movie title exists in the dataframe\n",
    "    if movie_title in df['title'].values:\n",
    "        return [movie_title]  # Return the title as a single-item list\n",
    "    else:\n",
    "        return f\"Movie '{movie_title}' not found in the dataset.\"\n"
   ]
  },
  {
   "cell_type": "code",
   "execution_count": 39,
   "id": "6eb61ffb-b011-4d7a-a5c3-4d55d3d5ff52",
   "metadata": {},
   "outputs": [],
   "source": [
    "\n",
    "\n",
    "# --- Unified Function to Handle Different Recommendation Features ---\n",
    "def recommend_movies(feature, value, df, n_recommendations=5):\n",
    "    if feature == 'release_date':\n",
    "        return recommend_by_release_date(value, df, n_recommendations)\n",
    "    elif feature == 'popularity':\n",
    "        return recommend_by_popularity(value, df, n_recommendations)\n",
    "    elif feature == 'genre':\n",
    "        return recommend_by_genre(value, df, n_recommendations)\n",
    "    elif feature == 'vote_average':\n",
    "        return recommend_by_vote_average(value, df, n_recommendations)\n",
    "    elif feature == 'title':\n",
    "        return recommend_by_title(value, df, n_recommendations)\n",
    "    else:\n",
    "        return \"Invalid feature specified.\"\n"
   ]
  },
  {
   "cell_type": "code",
   "execution_count": 40,
   "id": "c15d5b11-f7fb-40a4-a7f0-f1a75b8430db",
   "metadata": {},
   "outputs": [],
   "source": [
    "# --- User Input for Recommendations ---\n",
    "def get_user_input():\n",
    "    print(\"Available features for filtering: release_date, popularity, genre, vote_average, title\")\n",
    "    feature = input(\"Please enter the filter feature you want to use: \").strip().lower()\n",
    "    \n",
    "    if feature == 'release_date':\n",
    "        value = int(input(\"Please enter the year for release date: \"))  # Assume year is an integer\n",
    "    elif feature == 'popularity':\n",
    "        value = float(input(\"Please enter the minimum popularity: \"))\n",
    "    elif feature == 'vote_average':\n",
    "        value = float(input(\"Please enter the minimum vote average: \"))\n",
    "    elif feature == 'genre':\n",
    "        value = input(\"Please enter the genre: \").strip()  # Single genre input\n",
    "    elif feature == 'title':\n",
    "        value = input(\"Please enter the movie title: \").strip()\n",
    "    else:\n",
    "        return None, \"Invalid feature specified.\"\n",
    "    \n",
    "    return feature, value\n"
   ]
  },
  {
   "cell_type": "code",
   "execution_count": 41,
   "id": "3cfb6e39-cd18-41e3-9f5f-ce59b99491ee",
   "metadata": {},
   "outputs": [
    {
     "name": "stdout",
     "output_type": "stream",
     "text": [
      "Available features for filtering: release_date, popularity, genre, vote_average, title\n"
     ]
    },
    {
     "name": "stdin",
     "output_type": "stream",
     "text": [
      "Please enter the filter feature you want to use:  genre\n",
      "Please enter the genre:  Action\n"
     ]
    },
    {
     "name": "stdout",
     "output_type": "stream",
     "text": [
      "\n",
      "Recommendations:\n",
      "['Blue Beetle', 'Gran Turismo', 'The Nun II', 'Meg 2: The Trench', 'Retribution']\n"
     ]
    }
   ],
   "source": [
    "\n",
    "# Main Execution\n",
    "if __name__ == \"__main__\":\n",
    "    feature, value = get_user_input()\n",
    "    \n",
    "    if value is None:\n",
    "        print(feature)  # Display the error message for invalid feature\n",
    "    else:\n",
    "        n_recommendations = 5  # Number of recommendations\n",
    "        final_recommendations = recommend_movies(feature, value, movies_df, n_recommendations)\n",
    "        print(\"\\nRecommendations:\")\n",
    "        print(final_recommendations)  # This will only print the titles"
   ]
  },
  {
   "cell_type": "code",
   "execution_count": 42,
   "id": "94527f15-9814-476a-aef0-6aa32b25e935",
   "metadata": {},
   "outputs": [],
   "source": [
    "import pickle"
   ]
  },
  {
   "cell_type": "code",
   "execution_count": 44,
   "id": "2e277be0-1f0e-47bc-8af0-7e17a3bead2c",
   "metadata": {},
   "outputs": [
    {
     "name": "stderr",
     "output_type": "stream",
     "text": [
      "WARNING: Retrying (Retry(total=4, connect=None, read=None, redirect=None, status=None)) after connection broken by 'ConnectTimeoutError(<pip._vendor.urllib3.connection.HTTPSConnection object at 0x000001F3176EAC60>, 'Connection to pypi.org timed out. (connect timeout=15)')': /simple/pickel/\n",
      "WARNING: Retrying (Retry(total=3, connect=None, read=None, redirect=None, status=None)) after connection broken by 'ConnectTimeoutError(<pip._vendor.urllib3.connection.HTTPSConnection object at 0x000001F31788F950>, 'Connection to pypi.org timed out. (connect timeout=15)')': /simple/pickel/\n",
      "WARNING: Retrying (Retry(total=2, connect=None, read=None, redirect=None, status=None)) after connection broken by 'ConnectTimeoutError(<pip._vendor.urllib3.connection.HTTPSConnection object at 0x000001F31792C500>, 'Connection to pypi.org timed out. (connect timeout=15)')': /simple/pickel/\n",
      "WARNING: Retrying (Retry(total=1, connect=None, read=None, redirect=None, status=None)) after connection broken by 'ConnectTimeoutError(<pip._vendor.urllib3.connection.HTTPSConnection object at 0x000001F31793D280>, 'Connection to pypi.org timed out. (connect timeout=15)')': /simple/pickel/\n",
      "WARNING: Retrying (Retry(total=0, connect=None, read=None, redirect=None, status=None)) after connection broken by 'ConnectTimeoutError(<pip._vendor.urllib3.connection.HTTPSConnection object at 0x000001F31793C950>, 'Connection to pypi.org timed out. (connect timeout=15)')': /simple/pickel/\n",
      "ERROR: Could not find a version that satisfies the requirement pickel (from versions: none)\n",
      "ERROR: No matching distribution found for pickel\n",
      "WARNING: Retrying (Retry(total=4, connect=None, read=None, redirect=None, status=None)) after connection broken by 'ConnectTimeoutError(<pip._vendor.urllib3.connection.HTTPSConnection object at 0x000001A44DF23E60>, 'Connection to pypi.org timed out. (connect timeout=15)')': /simple/pickle/\n",
      "WARNING: Retrying (Retry(total=3, connect=None, read=None, redirect=None, status=None)) after connection broken by 'ConnectTimeoutError(<pip._vendor.urllib3.connection.HTTPSConnection object at 0x000001A44E1B5580>, 'Connection to pypi.org timed out. (connect timeout=15)')': /simple/pickle/\n",
      "WARNING: Retrying (Retry(total=2, connect=None, read=None, redirect=None, status=None)) after connection broken by 'ConnectTimeoutError(<pip._vendor.urllib3.connection.HTTPSConnection object at 0x000001A44E33D0D0>, 'Connection to pypi.org timed out. (connect timeout=15)')': /simple/pickle/\n",
      "WARNING: Retrying (Retry(total=1, connect=None, read=None, redirect=None, status=None)) after connection broken by 'ConnectTimeoutError(<pip._vendor.urllib3.connection.HTTPSConnection object at 0x000001A44E33E360>, 'Connection to pypi.org timed out. (connect timeout=15)')': /simple/pickle/\n",
      "WARNING: Retrying (Retry(total=0, connect=None, read=None, redirect=None, status=None)) after connection broken by 'ConnectTimeoutError(<pip._vendor.urllib3.connection.HTTPSConnection object at 0x000001A44E33EE70>, 'Connection to pypi.org timed out. (connect timeout=15)')': /simple/pickle/\n",
      "ERROR: Could not find a version that satisfies the requirement pickle (from versions: none)\n",
      "ERROR: No matching distribution found for pickle\n"
     ]
    }
   ],
   "source": [
    "pickle.dump(movies_df,open('movies_list.pkl','wb'))"
   ]
  },
  {
   "cell_type": "code",
   "execution_count": null,
   "id": "34775d57-12a6-4006-8af2-bb57a1bc10cc",
   "metadata": {},
   "outputs": [],
   "source": []
  },
  {
   "cell_type": "code",
   "execution_count": null,
   "id": "62603427-1861-4eef-9243-839c723e65eb",
   "metadata": {},
   "outputs": [],
   "source": []
  },
  {
   "cell_type": "code",
   "execution_count": null,
   "id": "3a9be96c-1d9b-454b-a7e2-65badf4aff12",
   "metadata": {},
   "outputs": [],
   "source": []
  },
  {
   "cell_type": "code",
   "execution_count": null,
   "id": "7e7b268f-f16c-47ed-aae7-d0fb01680b5c",
   "metadata": {},
   "outputs": [],
   "source": []
  }
 ],
 "metadata": {
  "kernelspec": {
   "display_name": "Python 3 (ipykernel)",
   "language": "python",
   "name": "python3"
  },
  "language_info": {
   "codemirror_mode": {
    "name": "ipython",
    "version": 3
   },
   "file_extension": ".py",
   "mimetype": "text/x-python",
   "name": "python",
   "nbconvert_exporter": "python",
   "pygments_lexer": "ipython3",
   "version": "3.12.3"
  }
 },
 "nbformat": 4,
 "nbformat_minor": 5
}
