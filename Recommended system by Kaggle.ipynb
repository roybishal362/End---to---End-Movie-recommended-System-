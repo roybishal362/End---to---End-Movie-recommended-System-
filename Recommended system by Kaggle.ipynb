{
 "cells": [
  {
   "cell_type": "code",
   "execution_count": 25,
   "id": "3748704d-1e58-4f9d-b966-500bd6903f2b",
   "metadata": {},
   "outputs": [],
   "source": [
    "import pandas as pd\n",
    "import numpy as np\n",
    "import matplotlib as plt\n",
    "import seaborn as sns"
   ]
  },
  {
   "cell_type": "code",
   "execution_count": 26,
   "id": "3a4814e3-f48a-4e76-a8b0-2f9e5d2cec11",
   "metadata": {},
   "outputs": [],
   "source": [
    "main_df = pd.read_csv('Data/TMDB_movie_dataset_v11.csv')"
   ]
  },
  {
   "cell_type": "code",
   "execution_count": 27,
   "id": "42ec1e96-6183-4da3-85e3-a7bb75e42aff",
   "metadata": {},
   "outputs": [],
   "source": [
    "df = main_df[main_df['vote_average']!=0]\n",
    "df.reset_index(inplace=True)"
   ]
  },
  {
   "cell_type": "code",
   "execution_count": 28,
   "id": "dfa71380-d21c-41a6-8dc3-17336bdea823",
   "metadata": {},
   "outputs": [
    {
     "data": {
      "text/plain": [
       "(349257, 25)"
      ]
     },
     "execution_count": 28,
     "metadata": {},
     "output_type": "execute_result"
    }
   ],
   "source": [
    "df.shape"
   ]
  },
  {
   "cell_type": "code",
   "execution_count": 29,
   "id": "8a2313b0-9cae-43d9-85fa-53d3b215baf2",
   "metadata": {},
   "outputs": [
    {
     "data": {
      "text/plain": [
       "Index(['index', 'id', 'title', 'vote_average', 'vote_count', 'status',\n",
       "       'release_date', 'revenue', 'runtime', 'adult', 'backdrop_path',\n",
       "       'budget', 'homepage', 'imdb_id', 'original_language', 'original_title',\n",
       "       'overview', 'popularity', 'poster_path', 'tagline', 'genres',\n",
       "       'production_companies', 'production_countries', 'spoken_languages',\n",
       "       'keywords'],\n",
       "      dtype='object')"
      ]
     },
     "execution_count": 29,
     "metadata": {},
     "output_type": "execute_result"
    }
   ],
   "source": [
    "df.columns"
   ]
  },
  {
   "cell_type": "code",
   "execution_count": 31,
   "id": "fc8d1c5a-2206-4bed-9ca2-4331a84f8855",
   "metadata": {},
   "outputs": [],
   "source": [
    "df = df.drop( ['id' , 'vote_count' , 'status' ,  'revenue' , 'backdrop_path',\n",
    "              'budget','homepage','imdb_id','original_title' , 'overview','poster_path',\n",
    "              'tagline' , 'production_companies','production_countries' ,'spoken_languages' ,'keywords'], axis=1)"
   ]
  },
  {
   "cell_type": "code",
   "execution_count": 32,
   "id": "864ca4ad-0dda-441d-9fcf-7d349812046e",
   "metadata": {},
   "outputs": [],
   "source": [
    "df['org_title']=df['title']"
   ]
  },
  {
   "cell_type": "code",
   "execution_count": 33,
   "id": "04aa070b-83ae-440e-9155-0b025dc3086d",
   "metadata": {},
   "outputs": [
    {
     "data": {
      "text/plain": [
       "index                    0\n",
       "title                    0\n",
       "vote_average             0\n",
       "release_date          6872\n",
       "runtime                  0\n",
       "adult                    0\n",
       "original_language        0\n",
       "popularity               0\n",
       "genres               59073\n",
       "org_title                0\n",
       "dtype: int64"
      ]
     },
     "execution_count": 33,
     "metadata": {},
     "output_type": "execute_result"
    }
   ],
   "source": [
    "df.isna().sum()"
   ]
  },
  {
   "cell_type": "code",
   "execution_count": 34,
   "id": "c6057630-d268-43f2-afc3-a9138d45cf6a",
   "metadata": {},
   "outputs": [],
   "source": [
    "df['genres'] = df['genres'].fillna('unknown')\n"
   ]
  },
  {
   "cell_type": "code",
   "execution_count": 36,
   "id": "44f63d93-4840-4f39-a93e-5640049adbf3",
   "metadata": {},
   "outputs": [],
   "source": [
    "df = df.dropna()"
   ]
  },
  {
   "cell_type": "code",
   "execution_count": 37,
   "id": "8f5ae82b-631f-4903-b2e5-4298e5418358",
   "metadata": {},
   "outputs": [
    {
     "data": {
      "text/plain": [
       "index                0\n",
       "title                0\n",
       "vote_average         0\n",
       "release_date         0\n",
       "runtime              0\n",
       "adult                0\n",
       "original_language    0\n",
       "popularity           0\n",
       "genres               0\n",
       "org_title            0\n",
       "dtype: int64"
      ]
     },
     "execution_count": 37,
     "metadata": {},
     "output_type": "execute_result"
    }
   ],
   "source": [
    "df.isna().sum()"
   ]
  },
  {
   "cell_type": "code",
   "execution_count": 38,
   "id": "3e176202-4a4d-4094-985b-a94770ff2df8",
   "metadata": {},
   "outputs": [
    {
     "data": {
      "text/plain": [
       "0"
      ]
     },
     "execution_count": 38,
     "metadata": {},
     "output_type": "execute_result"
    }
   ],
   "source": [
    "df.duplicated().sum()"
   ]
  },
  {
   "cell_type": "code",
   "execution_count": 39,
   "id": "39d54670-f206-4377-826b-74cb2d3962a4",
   "metadata": {},
   "outputs": [],
   "source": [
    "dff= df.copy()"
   ]
  },
  {
   "cell_type": "code",
   "execution_count": 40,
   "id": "a13b5b5a-8d2c-4d1f-b51b-7029694cc8b2",
   "metadata": {},
   "outputs": [],
   "source": [
    "from sklearn.preprocessing import OneHotEncoder, MultiLabelBinarizer\n",
    "\n",
    "genre_l = dff['genres'].apply(lambda x: x.split(','))\n",
    "genre_l = pd.DataFrame(genre_l)"
   ]
  },
  {
   "cell_type": "code",
   "execution_count": 41,
   "id": "511dcc9d-5a46-4bfd-881a-691fffe27664",
   "metadata": {},
   "outputs": [],
   "source": [
    "genre_l['genres'] = genre_l['genres'].apply(lambda x :[ y.strip().lower().replace(' ','') for y in x] )"
   ]
  },
  {
   "cell_type": "code",
   "execution_count": 42,
   "id": "6edc1849-39d0-4939-b7f8-797e0c8db635",
   "metadata": {},
   "outputs": [],
   "source": [
    "MLB = MultiLabelBinarizer()\n",
    "\n",
    "genre_encoded = MLB.fit_transform(genre_l['genres'])"
   ]
  },
  {
   "cell_type": "code",
   "execution_count": 43,
   "id": "2400e31e-621f-4985-9602-e1717a34b791",
   "metadata": {},
   "outputs": [
    {
     "data": {
      "text/plain": [
       "array([[1, 1, 0, ..., 0, 0, 0],\n",
       "       [0, 1, 0, ..., 0, 0, 0],\n",
       "       [1, 0, 0, ..., 0, 0, 0],\n",
       "       ...,\n",
       "       [0, 0, 0, ..., 0, 0, 0],\n",
       "       [0, 0, 0, ..., 0, 0, 0],\n",
       "       [0, 0, 0, ..., 0, 0, 0]])"
      ]
     },
     "execution_count": 43,
     "metadata": {},
     "output_type": "execute_result"
    }
   ],
   "source": [
    "genre_encoded"
   ]
  },
  {
   "cell_type": "code",
   "execution_count": 44,
   "id": "8ea40c54-95b1-4866-ba81-c3f356464d06",
   "metadata": {},
   "outputs": [],
   "source": [
    "genre_encoded_df = pd.DataFrame(genre_encoded, columns=MLB.classes_)\n",
    "genre_encoded_df=genre_encoded_df.reset_index()"
   ]
  },
  {
   "cell_type": "code",
   "execution_count": 45,
   "id": "ac901b0b-c4c6-4cd9-b1d3-dc96457e16e6",
   "metadata": {},
   "outputs": [],
   "source": [
    "mod_df = dff.drop(['genres'],axis=1)\n",
    "mod_df=mod_df.reset_index()"
   ]
  },
  {
   "cell_type": "code",
   "execution_count": 46,
   "id": "76080682-ba64-405f-a1a4-613147142023",
   "metadata": {},
   "outputs": [],
   "source": [
    "df = pd.concat([mod_df,genre_encoded_df],axis=1).drop('index',axis=1)"
   ]
  },
  {
   "cell_type": "code",
   "execution_count": 47,
   "id": "4314e6d6-21ec-44a7-b011-14958558abf8",
   "metadata": {},
   "outputs": [
    {
     "data": {
      "text/html": [
       "<div>\n",
       "<style scoped>\n",
       "    .dataframe tbody tr th:only-of-type {\n",
       "        vertical-align: middle;\n",
       "    }\n",
       "\n",
       "    .dataframe tbody tr th {\n",
       "        vertical-align: top;\n",
       "    }\n",
       "\n",
       "    .dataframe thead th {\n",
       "        text-align: right;\n",
       "    }\n",
       "</style>\n",
       "<table border=\"1\" class=\"dataframe\">\n",
       "  <thead>\n",
       "    <tr style=\"text-align: right;\">\n",
       "      <th></th>\n",
       "      <th>level_0</th>\n",
       "      <th>title</th>\n",
       "      <th>vote_average</th>\n",
       "      <th>release_date</th>\n",
       "      <th>runtime</th>\n",
       "      <th>adult</th>\n",
       "      <th>original_language</th>\n",
       "      <th>popularity</th>\n",
       "      <th>org_title</th>\n",
       "      <th>action</th>\n",
       "      <th>...</th>\n",
       "      <th>horror</th>\n",
       "      <th>music</th>\n",
       "      <th>mystery</th>\n",
       "      <th>romance</th>\n",
       "      <th>sciencefiction</th>\n",
       "      <th>thriller</th>\n",
       "      <th>tvmovie</th>\n",
       "      <th>unknown</th>\n",
       "      <th>war</th>\n",
       "      <th>western</th>\n",
       "    </tr>\n",
       "  </thead>\n",
       "  <tbody>\n",
       "    <tr>\n",
       "      <th>0</th>\n",
       "      <td>0</td>\n",
       "      <td>Inception</td>\n",
       "      <td>8.364</td>\n",
       "      <td>2010-07-15</td>\n",
       "      <td>148</td>\n",
       "      <td>False</td>\n",
       "      <td>en</td>\n",
       "      <td>83.952</td>\n",
       "      <td>Inception</td>\n",
       "      <td>1</td>\n",
       "      <td>...</td>\n",
       "      <td>0</td>\n",
       "      <td>0</td>\n",
       "      <td>0</td>\n",
       "      <td>0</td>\n",
       "      <td>1</td>\n",
       "      <td>0</td>\n",
       "      <td>0</td>\n",
       "      <td>0</td>\n",
       "      <td>0</td>\n",
       "      <td>0</td>\n",
       "    </tr>\n",
       "    <tr>\n",
       "      <th>1</th>\n",
       "      <td>1</td>\n",
       "      <td>Interstellar</td>\n",
       "      <td>8.417</td>\n",
       "      <td>2014-11-05</td>\n",
       "      <td>169</td>\n",
       "      <td>False</td>\n",
       "      <td>en</td>\n",
       "      <td>140.241</td>\n",
       "      <td>Interstellar</td>\n",
       "      <td>0</td>\n",
       "      <td>...</td>\n",
       "      <td>0</td>\n",
       "      <td>0</td>\n",
       "      <td>0</td>\n",
       "      <td>0</td>\n",
       "      <td>1</td>\n",
       "      <td>0</td>\n",
       "      <td>0</td>\n",
       "      <td>0</td>\n",
       "      <td>0</td>\n",
       "      <td>0</td>\n",
       "    </tr>\n",
       "    <tr>\n",
       "      <th>2</th>\n",
       "      <td>2</td>\n",
       "      <td>The Dark Knight</td>\n",
       "      <td>8.512</td>\n",
       "      <td>2008-07-16</td>\n",
       "      <td>152</td>\n",
       "      <td>False</td>\n",
       "      <td>en</td>\n",
       "      <td>130.643</td>\n",
       "      <td>The Dark Knight</td>\n",
       "      <td>1</td>\n",
       "      <td>...</td>\n",
       "      <td>0</td>\n",
       "      <td>0</td>\n",
       "      <td>0</td>\n",
       "      <td>0</td>\n",
       "      <td>0</td>\n",
       "      <td>1</td>\n",
       "      <td>0</td>\n",
       "      <td>0</td>\n",
       "      <td>0</td>\n",
       "      <td>0</td>\n",
       "    </tr>\n",
       "    <tr>\n",
       "      <th>3</th>\n",
       "      <td>3</td>\n",
       "      <td>Avatar</td>\n",
       "      <td>7.573</td>\n",
       "      <td>2009-12-15</td>\n",
       "      <td>162</td>\n",
       "      <td>False</td>\n",
       "      <td>en</td>\n",
       "      <td>79.932</td>\n",
       "      <td>Avatar</td>\n",
       "      <td>1</td>\n",
       "      <td>...</td>\n",
       "      <td>0</td>\n",
       "      <td>0</td>\n",
       "      <td>0</td>\n",
       "      <td>0</td>\n",
       "      <td>1</td>\n",
       "      <td>0</td>\n",
       "      <td>0</td>\n",
       "      <td>0</td>\n",
       "      <td>0</td>\n",
       "      <td>0</td>\n",
       "    </tr>\n",
       "    <tr>\n",
       "      <th>4</th>\n",
       "      <td>4</td>\n",
       "      <td>The Avengers</td>\n",
       "      <td>7.710</td>\n",
       "      <td>2012-04-25</td>\n",
       "      <td>143</td>\n",
       "      <td>False</td>\n",
       "      <td>en</td>\n",
       "      <td>98.082</td>\n",
       "      <td>The Avengers</td>\n",
       "      <td>1</td>\n",
       "      <td>...</td>\n",
       "      <td>0</td>\n",
       "      <td>0</td>\n",
       "      <td>0</td>\n",
       "      <td>0</td>\n",
       "      <td>1</td>\n",
       "      <td>0</td>\n",
       "      <td>0</td>\n",
       "      <td>0</td>\n",
       "      <td>0</td>\n",
       "      <td>0</td>\n",
       "    </tr>\n",
       "  </tbody>\n",
       "</table>\n",
       "<p>5 rows × 29 columns</p>\n",
       "</div>"
      ],
      "text/plain": [
       "   level_0            title  vote_average release_date  runtime  adult  \\\n",
       "0        0        Inception         8.364   2010-07-15      148  False   \n",
       "1        1     Interstellar         8.417   2014-11-05      169  False   \n",
       "2        2  The Dark Knight         8.512   2008-07-16      152  False   \n",
       "3        3           Avatar         7.573   2009-12-15      162  False   \n",
       "4        4     The Avengers         7.710   2012-04-25      143  False   \n",
       "\n",
       "  original_language  popularity        org_title  action  ...  horror  music  \\\n",
       "0                en      83.952        Inception       1  ...       0      0   \n",
       "1                en     140.241     Interstellar       0  ...       0      0   \n",
       "2                en     130.643  The Dark Knight       1  ...       0      0   \n",
       "3                en      79.932           Avatar       1  ...       0      0   \n",
       "4                en      98.082     The Avengers       1  ...       0      0   \n",
       "\n",
       "   mystery  romance  sciencefiction  thriller  tvmovie  unknown  war  western  \n",
       "0        0        0               1         0        0        0    0        0  \n",
       "1        0        0               1         0        0        0    0        0  \n",
       "2        0        0               0         1        0        0    0        0  \n",
       "3        0        0               1         0        0        0    0        0  \n",
       "4        0        0               1         0        0        0    0        0  \n",
       "\n",
       "[5 rows x 29 columns]"
      ]
     },
     "execution_count": 47,
     "metadata": {},
     "output_type": "execute_result"
    }
   ],
   "source": [
    "df.head()"
   ]
  },
  {
   "cell_type": "code",
   "execution_count": 48,
   "id": "7f48d46b-c2b8-409c-9bfe-d1201e8c5d31",
   "metadata": {},
   "outputs": [],
   "source": [
    "df['title'] = df['title'].apply(lambda x :x.strip().lower().replace(' ','') )\n",
    "df['original_language'] = df['original_language'].apply(lambda x :x.strip().lower().replace(' ','') )"
   ]
  },
  {
   "cell_type": "code",
   "execution_count": 49,
   "id": "6083c622-7656-4fab-89da-a168836a25d0",
   "metadata": {},
   "outputs": [],
   "source": [
    "df.loc[~( (df['original_language']=='en')|(df['original_language']=='fr')|(df['original_language']=='es')|(df['original_language']=='de')|(df['original_language']=='ja')),'original_language'] = 'else'"
   ]
  },
  {
   "cell_type": "code",
   "execution_count": 50,
   "id": "cc41ac3d-8dcf-48a5-9fce-f0485f8336ad",
   "metadata": {},
   "outputs": [],
   "source": [
    "OHE = OneHotEncoder(sparse_output=False)"
   ]
  },
  {
   "cell_type": "code",
   "execution_count": 51,
   "id": "8c29d168-ce5a-4024-83f2-57c0b009fe8c",
   "metadata": {},
   "outputs": [],
   "source": [
    "df['adult'] = df['adult'].astype('str')\n",
    "adult_enc = OHE.fit_transform(df[['adult']])\n",
    "adult_enc_df = pd.DataFrame(adult_enc,columns=OHE.get_feature_names_out())"
   ]
  },
  {
   "cell_type": "code",
   "execution_count": 52,
   "id": "f13f56c1-5361-4901-a608-d70d870ec988",
   "metadata": {},
   "outputs": [],
   "source": [
    "adult_enc_df = adult_enc_df.drop('adult_True',axis=1)\n"
   ]
  },
  {
   "cell_type": "code",
   "execution_count": 53,
   "id": "12cb74ae-8444-4ebd-a1ae-86a4515f201f",
   "metadata": {},
   "outputs": [],
   "source": [
    "lang_enc = OHE.fit_transform(df[['original_language']])\n",
    "lang_enc_df = pd.DataFrame(lang_enc,columns=OHE.get_feature_names_out())"
   ]
  },
  {
   "cell_type": "code",
   "execution_count": 54,
   "id": "fa8fda11-e970-410d-a674-713ea30c444f",
   "metadata": {},
   "outputs": [],
   "source": [
    "mod_df = df.drop(['adult','original_language'],axis=1)"
   ]
  },
  {
   "cell_type": "code",
   "execution_count": 55,
   "id": "ebb3eb92-9ab8-496c-b4c9-1fb57713889b",
   "metadata": {},
   "outputs": [],
   "source": [
    "df = pd.concat([mod_df,adult_enc_df,lang_enc_df],axis=1)"
   ]
  },
  {
   "cell_type": "code",
   "execution_count": 58,
   "id": "a98e86d7-55b1-4dfc-8968-cb676a4e3862",
   "metadata": {},
   "outputs": [
    {
     "data": {
      "text/html": [
       "<div>\n",
       "<style scoped>\n",
       "    .dataframe tbody tr th:only-of-type {\n",
       "        vertical-align: middle;\n",
       "    }\n",
       "\n",
       "    .dataframe tbody tr th {\n",
       "        vertical-align: top;\n",
       "    }\n",
       "\n",
       "    .dataframe thead th {\n",
       "        text-align: right;\n",
       "    }\n",
       "</style>\n",
       "<table border=\"1\" class=\"dataframe\">\n",
       "  <thead>\n",
       "    <tr style=\"text-align: right;\">\n",
       "      <th></th>\n",
       "      <th>level_0</th>\n",
       "      <th>title</th>\n",
       "      <th>vote_average</th>\n",
       "      <th>runtime</th>\n",
       "      <th>popularity</th>\n",
       "      <th>org_title</th>\n",
       "      <th>action</th>\n",
       "      <th>adventure</th>\n",
       "      <th>animation</th>\n",
       "      <th>comedy</th>\n",
       "      <th>...</th>\n",
       "      <th>war</th>\n",
       "      <th>western</th>\n",
       "      <th>adult_False</th>\n",
       "      <th>original_language_de</th>\n",
       "      <th>original_language_else</th>\n",
       "      <th>original_language_en</th>\n",
       "      <th>original_language_es</th>\n",
       "      <th>original_language_fr</th>\n",
       "      <th>original_language_ja</th>\n",
       "      <th>release_year</th>\n",
       "    </tr>\n",
       "  </thead>\n",
       "  <tbody>\n",
       "    <tr>\n",
       "      <th>0</th>\n",
       "      <td>0</td>\n",
       "      <td>inception</td>\n",
       "      <td>8.364</td>\n",
       "      <td>148</td>\n",
       "      <td>83.952</td>\n",
       "      <td>Inception</td>\n",
       "      <td>1</td>\n",
       "      <td>1</td>\n",
       "      <td>0</td>\n",
       "      <td>0</td>\n",
       "      <td>...</td>\n",
       "      <td>0</td>\n",
       "      <td>0</td>\n",
       "      <td>1.0</td>\n",
       "      <td>0.0</td>\n",
       "      <td>0.0</td>\n",
       "      <td>1.0</td>\n",
       "      <td>0.0</td>\n",
       "      <td>0.0</td>\n",
       "      <td>0.0</td>\n",
       "      <td>2010</td>\n",
       "    </tr>\n",
       "    <tr>\n",
       "      <th>1</th>\n",
       "      <td>1</td>\n",
       "      <td>interstellar</td>\n",
       "      <td>8.417</td>\n",
       "      <td>169</td>\n",
       "      <td>140.241</td>\n",
       "      <td>Interstellar</td>\n",
       "      <td>0</td>\n",
       "      <td>1</td>\n",
       "      <td>0</td>\n",
       "      <td>0</td>\n",
       "      <td>...</td>\n",
       "      <td>0</td>\n",
       "      <td>0</td>\n",
       "      <td>1.0</td>\n",
       "      <td>0.0</td>\n",
       "      <td>0.0</td>\n",
       "      <td>1.0</td>\n",
       "      <td>0.0</td>\n",
       "      <td>0.0</td>\n",
       "      <td>0.0</td>\n",
       "      <td>2014</td>\n",
       "    </tr>\n",
       "    <tr>\n",
       "      <th>2</th>\n",
       "      <td>2</td>\n",
       "      <td>thedarkknight</td>\n",
       "      <td>8.512</td>\n",
       "      <td>152</td>\n",
       "      <td>130.643</td>\n",
       "      <td>The Dark Knight</td>\n",
       "      <td>1</td>\n",
       "      <td>0</td>\n",
       "      <td>0</td>\n",
       "      <td>0</td>\n",
       "      <td>...</td>\n",
       "      <td>0</td>\n",
       "      <td>0</td>\n",
       "      <td>1.0</td>\n",
       "      <td>0.0</td>\n",
       "      <td>0.0</td>\n",
       "      <td>1.0</td>\n",
       "      <td>0.0</td>\n",
       "      <td>0.0</td>\n",
       "      <td>0.0</td>\n",
       "      <td>2008</td>\n",
       "    </tr>\n",
       "    <tr>\n",
       "      <th>3</th>\n",
       "      <td>3</td>\n",
       "      <td>avatar</td>\n",
       "      <td>7.573</td>\n",
       "      <td>162</td>\n",
       "      <td>79.932</td>\n",
       "      <td>Avatar</td>\n",
       "      <td>1</td>\n",
       "      <td>1</td>\n",
       "      <td>0</td>\n",
       "      <td>0</td>\n",
       "      <td>...</td>\n",
       "      <td>0</td>\n",
       "      <td>0</td>\n",
       "      <td>1.0</td>\n",
       "      <td>0.0</td>\n",
       "      <td>0.0</td>\n",
       "      <td>1.0</td>\n",
       "      <td>0.0</td>\n",
       "      <td>0.0</td>\n",
       "      <td>0.0</td>\n",
       "      <td>2009</td>\n",
       "    </tr>\n",
       "    <tr>\n",
       "      <th>4</th>\n",
       "      <td>4</td>\n",
       "      <td>theavengers</td>\n",
       "      <td>7.710</td>\n",
       "      <td>143</td>\n",
       "      <td>98.082</td>\n",
       "      <td>The Avengers</td>\n",
       "      <td>1</td>\n",
       "      <td>1</td>\n",
       "      <td>0</td>\n",
       "      <td>0</td>\n",
       "      <td>...</td>\n",
       "      <td>0</td>\n",
       "      <td>0</td>\n",
       "      <td>1.0</td>\n",
       "      <td>0.0</td>\n",
       "      <td>0.0</td>\n",
       "      <td>1.0</td>\n",
       "      <td>0.0</td>\n",
       "      <td>0.0</td>\n",
       "      <td>0.0</td>\n",
       "      <td>2012</td>\n",
       "    </tr>\n",
       "  </tbody>\n",
       "</table>\n",
       "<p>5 rows × 34 columns</p>\n",
       "</div>"
      ],
      "text/plain": [
       "   level_0          title  vote_average  runtime  popularity        org_title  \\\n",
       "0        0      inception         8.364      148      83.952        Inception   \n",
       "1        1   interstellar         8.417      169     140.241     Interstellar   \n",
       "2        2  thedarkknight         8.512      152     130.643  The Dark Knight   \n",
       "3        3         avatar         7.573      162      79.932           Avatar   \n",
       "4        4    theavengers         7.710      143      98.082     The Avengers   \n",
       "\n",
       "   action  adventure  animation  comedy  ...  war  western  adult_False  \\\n",
       "0       1          1          0       0  ...    0        0          1.0   \n",
       "1       0          1          0       0  ...    0        0          1.0   \n",
       "2       1          0          0       0  ...    0        0          1.0   \n",
       "3       1          1          0       0  ...    0        0          1.0   \n",
       "4       1          1          0       0  ...    0        0          1.0   \n",
       "\n",
       "   original_language_de  original_language_else  original_language_en  \\\n",
       "0                   0.0                     0.0                   1.0   \n",
       "1                   0.0                     0.0                   1.0   \n",
       "2                   0.0                     0.0                   1.0   \n",
       "3                   0.0                     0.0                   1.0   \n",
       "4                   0.0                     0.0                   1.0   \n",
       "\n",
       "   original_language_es  original_language_fr  original_language_ja  \\\n",
       "0                   0.0                   0.0                   0.0   \n",
       "1                   0.0                   0.0                   0.0   \n",
       "2                   0.0                   0.0                   0.0   \n",
       "3                   0.0                   0.0                   0.0   \n",
       "4                   0.0                   0.0                   0.0   \n",
       "\n",
       "   release_year  \n",
       "0          2010  \n",
       "1          2014  \n",
       "2          2008  \n",
       "3          2009  \n",
       "4          2012  \n",
       "\n",
       "[5 rows x 34 columns]"
      ]
     },
     "execution_count": 58,
     "metadata": {},
     "output_type": "execute_result"
    }
   ],
   "source": [
    "df.head()"
   ]
  },
  {
   "cell_type": "code",
   "execution_count": 57,
   "id": "418e4495-5fa6-4305-bd71-1a4f0bc209a5",
   "metadata": {},
   "outputs": [],
   "source": [
    "# Converting 'release_date' to a datetime object and extract \n",
    "df['release_year'] = pd.to_datetime(df['release_date'], errors='coerce').dt.year\n",
    "df.drop(columns=['release_date'], inplace=True)"
   ]
  },
  {
   "cell_type": "code",
   "execution_count": 59,
   "id": "e4be0c91-13d3-4dab-af8b-2a835fcf33ec",
   "metadata": {},
   "outputs": [
    {
     "data": {
      "text/html": [
       "<div>\n",
       "<style scoped>\n",
       "    .dataframe tbody tr th:only-of-type {\n",
       "        vertical-align: middle;\n",
       "    }\n",
       "\n",
       "    .dataframe tbody tr th {\n",
       "        vertical-align: top;\n",
       "    }\n",
       "\n",
       "    .dataframe thead th {\n",
       "        text-align: right;\n",
       "    }\n",
       "</style>\n",
       "<table border=\"1\" class=\"dataframe\">\n",
       "  <thead>\n",
       "    <tr style=\"text-align: right;\">\n",
       "      <th></th>\n",
       "      <th>title</th>\n",
       "      <th>org_title</th>\n",
       "      <th>level_0</th>\n",
       "      <th>vote_average</th>\n",
       "      <th>runtime</th>\n",
       "      <th>popularity</th>\n",
       "      <th>action</th>\n",
       "      <th>adventure</th>\n",
       "      <th>animation</th>\n",
       "      <th>comedy</th>\n",
       "      <th>...</th>\n",
       "      <th>war</th>\n",
       "      <th>western</th>\n",
       "      <th>adult_False</th>\n",
       "      <th>original_language_de</th>\n",
       "      <th>original_language_else</th>\n",
       "      <th>original_language_en</th>\n",
       "      <th>original_language_es</th>\n",
       "      <th>original_language_fr</th>\n",
       "      <th>original_language_ja</th>\n",
       "      <th>release_year</th>\n",
       "    </tr>\n",
       "  </thead>\n",
       "  <tbody>\n",
       "    <tr>\n",
       "      <th>0</th>\n",
       "      <td>inception</td>\n",
       "      <td>Inception</td>\n",
       "      <td>-1.716374</td>\n",
       "      <td>1.186226</td>\n",
       "      <td>1.183474</td>\n",
       "      <td>5.995571</td>\n",
       "      <td>3.441525</td>\n",
       "      <td>4.767489</td>\n",
       "      <td>-0.25647</td>\n",
       "      <td>-0.52945</td>\n",
       "      <td>...</td>\n",
       "      <td>-0.133758</td>\n",
       "      <td>-0.115183</td>\n",
       "      <td>0.244813</td>\n",
       "      <td>-0.214907</td>\n",
       "      <td>-0.591061</td>\n",
       "      <td>0.966384</td>\n",
       "      <td>-0.273582</td>\n",
       "      <td>-0.275403</td>\n",
       "      <td>-0.20339</td>\n",
       "      <td>0.478580</td>\n",
       "    </tr>\n",
       "    <tr>\n",
       "      <th>1</th>\n",
       "      <td>interstellar</td>\n",
       "      <td>Interstellar</td>\n",
       "      <td>-1.716364</td>\n",
       "      <td>1.213559</td>\n",
       "      <td>1.507313</td>\n",
       "      <td>10.146431</td>\n",
       "      <td>-0.290569</td>\n",
       "      <td>4.767489</td>\n",
       "      <td>-0.25647</td>\n",
       "      <td>-0.52945</td>\n",
       "      <td>...</td>\n",
       "      <td>-0.133758</td>\n",
       "      <td>-0.115183</td>\n",
       "      <td>0.244813</td>\n",
       "      <td>-0.214907</td>\n",
       "      <td>-0.591061</td>\n",
       "      <td>0.966384</td>\n",
       "      <td>-0.273582</td>\n",
       "      <td>-0.275403</td>\n",
       "      <td>-0.20339</td>\n",
       "      <td>0.629484</td>\n",
       "    </tr>\n",
       "    <tr>\n",
       "      <th>2</th>\n",
       "      <td>thedarkknight</td>\n",
       "      <td>The Dark Knight</td>\n",
       "      <td>-1.716354</td>\n",
       "      <td>1.262553</td>\n",
       "      <td>1.245158</td>\n",
       "      <td>9.438656</td>\n",
       "      <td>3.441525</td>\n",
       "      <td>-0.209754</td>\n",
       "      <td>-0.25647</td>\n",
       "      <td>-0.52945</td>\n",
       "      <td>...</td>\n",
       "      <td>-0.133758</td>\n",
       "      <td>-0.115183</td>\n",
       "      <td>0.244813</td>\n",
       "      <td>-0.214907</td>\n",
       "      <td>-0.591061</td>\n",
       "      <td>0.966384</td>\n",
       "      <td>-0.273582</td>\n",
       "      <td>-0.275403</td>\n",
       "      <td>-0.20339</td>\n",
       "      <td>0.403128</td>\n",
       "    </tr>\n",
       "    <tr>\n",
       "      <th>3</th>\n",
       "      <td>avatar</td>\n",
       "      <td>Avatar</td>\n",
       "      <td>-1.716344</td>\n",
       "      <td>0.778291</td>\n",
       "      <td>1.399367</td>\n",
       "      <td>5.699128</td>\n",
       "      <td>3.441525</td>\n",
       "      <td>4.767489</td>\n",
       "      <td>-0.25647</td>\n",
       "      <td>-0.52945</td>\n",
       "      <td>...</td>\n",
       "      <td>-0.133758</td>\n",
       "      <td>-0.115183</td>\n",
       "      <td>0.244813</td>\n",
       "      <td>-0.214907</td>\n",
       "      <td>-0.591061</td>\n",
       "      <td>0.966384</td>\n",
       "      <td>-0.273582</td>\n",
       "      <td>-0.275403</td>\n",
       "      <td>-0.20339</td>\n",
       "      <td>0.440854</td>\n",
       "    </tr>\n",
       "    <tr>\n",
       "      <th>4</th>\n",
       "      <td>theavengers</td>\n",
       "      <td>The Avengers</td>\n",
       "      <td>-1.716334</td>\n",
       "      <td>0.848945</td>\n",
       "      <td>1.106369</td>\n",
       "      <td>7.037545</td>\n",
       "      <td>3.441525</td>\n",
       "      <td>4.767489</td>\n",
       "      <td>-0.25647</td>\n",
       "      <td>-0.52945</td>\n",
       "      <td>...</td>\n",
       "      <td>-0.133758</td>\n",
       "      <td>-0.115183</td>\n",
       "      <td>0.244813</td>\n",
       "      <td>-0.214907</td>\n",
       "      <td>-0.591061</td>\n",
       "      <td>0.966384</td>\n",
       "      <td>-0.273582</td>\n",
       "      <td>-0.275403</td>\n",
       "      <td>-0.20339</td>\n",
       "      <td>0.554032</td>\n",
       "    </tr>\n",
       "  </tbody>\n",
       "</table>\n",
       "<p>5 rows × 34 columns</p>\n",
       "</div>"
      ],
      "text/plain": [
       "           title        org_title   level_0  vote_average   runtime  \\\n",
       "0      inception        Inception -1.716374      1.186226  1.183474   \n",
       "1   interstellar     Interstellar -1.716364      1.213559  1.507313   \n",
       "2  thedarkknight  The Dark Knight -1.716354      1.262553  1.245158   \n",
       "3         avatar           Avatar -1.716344      0.778291  1.399367   \n",
       "4    theavengers     The Avengers -1.716334      0.848945  1.106369   \n",
       "\n",
       "   popularity    action  adventure  animation   comedy  ...       war  \\\n",
       "0    5.995571  3.441525   4.767489   -0.25647 -0.52945  ... -0.133758   \n",
       "1   10.146431 -0.290569   4.767489   -0.25647 -0.52945  ... -0.133758   \n",
       "2    9.438656  3.441525  -0.209754   -0.25647 -0.52945  ... -0.133758   \n",
       "3    5.699128  3.441525   4.767489   -0.25647 -0.52945  ... -0.133758   \n",
       "4    7.037545  3.441525   4.767489   -0.25647 -0.52945  ... -0.133758   \n",
       "\n",
       "    western  adult_False  original_language_de  original_language_else  \\\n",
       "0 -0.115183     0.244813             -0.214907               -0.591061   \n",
       "1 -0.115183     0.244813             -0.214907               -0.591061   \n",
       "2 -0.115183     0.244813             -0.214907               -0.591061   \n",
       "3 -0.115183     0.244813             -0.214907               -0.591061   \n",
       "4 -0.115183     0.244813             -0.214907               -0.591061   \n",
       "\n",
       "   original_language_en  original_language_es  original_language_fr  \\\n",
       "0              0.966384             -0.273582             -0.275403   \n",
       "1              0.966384             -0.273582             -0.275403   \n",
       "2              0.966384             -0.273582             -0.275403   \n",
       "3              0.966384             -0.273582             -0.275403   \n",
       "4              0.966384             -0.273582             -0.275403   \n",
       "\n",
       "   original_language_ja  release_year  \n",
       "0              -0.20339      0.478580  \n",
       "1              -0.20339      0.629484  \n",
       "2              -0.20339      0.403128  \n",
       "3              -0.20339      0.440854  \n",
       "4              -0.20339      0.554032  \n",
       "\n",
       "[5 rows x 34 columns]"
      ]
     },
     "execution_count": 59,
     "metadata": {},
     "output_type": "execute_result"
    }
   ],
   "source": [
    "from sklearn.preprocessing import StandardScaler\n",
    "SC = StandardScaler()\n",
    "df_norm = SC.fit_transform(df.drop(['title','org_title'],axis=1))\n",
    "df_norm_df = pd.DataFrame(df_norm, columns=[x for x in df.columns if x not in ['title', 'org_title']])\n",
    "df = pd.concat([df[['title','org_title']],df_norm_df],axis=1)\n",
    "df.head()"
   ]
  },
  {
   "cell_type": "code",
   "execution_count": 60,
   "id": "7ecf0e07-f1f3-4784-85f9-32294d3e6745",
   "metadata": {},
   "outputs": [],
   "source": [
    "df = df.drop_duplicates(subset=['title'])\n",
    "df=df.set_index(['title'])\n",
    "df_fin=df.drop('org_title',axis=1)"
   ]
  },
  {
   "cell_type": "code",
   "execution_count": 61,
   "id": "c90b0f9b-a899-46f1-a527-61e1ee3e8236",
   "metadata": {},
   "outputs": [
    {
     "data": {
      "text/html": [
       "<div>\n",
       "<style scoped>\n",
       "    .dataframe tbody tr th:only-of-type {\n",
       "        vertical-align: middle;\n",
       "    }\n",
       "\n",
       "    .dataframe tbody tr th {\n",
       "        vertical-align: top;\n",
       "    }\n",
       "\n",
       "    .dataframe thead th {\n",
       "        text-align: right;\n",
       "    }\n",
       "</style>\n",
       "<table border=\"1\" class=\"dataframe\">\n",
       "  <thead>\n",
       "    <tr style=\"text-align: right;\">\n",
       "      <th>org_title</th>\n",
       "      <th>Inception</th>\n",
       "      <th>Interstellar</th>\n",
       "      <th>Avatar</th>\n",
       "      <th>The Avengers</th>\n",
       "      <th>Deadpool</th>\n",
       "      <th>Avengers: Infinity War</th>\n",
       "      <th>Fight Club</th>\n",
       "      <th>Guardians of the Galaxy</th>\n",
       "      <th>Pulp Fiction</th>\n",
       "      <th>Forrest Gump</th>\n",
       "      <th>...</th>\n",
       "      <th>Stævnemøde</th>\n",
       "      <th>Kirby at War: La Guerre De Kirby</th>\n",
       "      <th>Rathnan Prapancha</th>\n",
       "      <th>Iron Deficiency</th>\n",
       "      <th>AVP The Monster Hydro Cup Day 2-1: Men’s Semi-Final 1 - Dalhausser and Lucena vs Tr. Crabb and Bourne</th>\n",
       "      <th>Hollow Water</th>\n",
       "      <th>Prison Circle</th>\n",
       "      <th>Présidentielle, une épreuve d'artistes</th>\n",
       "      <th>Z Argentiny do Mexika</th>\n",
       "      <th>Don Gio</th>\n",
       "    </tr>\n",
       "  </thead>\n",
       "  <tbody>\n",
       "    <tr>\n",
       "      <th>thedarkknight</th>\n",
       "      <td>0.590218</td>\n",
       "      <td>0.673101</td>\n",
       "      <td>0.502956</td>\n",
       "      <td>0.630106</td>\n",
       "      <td>0.627943</td>\n",
       "      <td>0.732171</td>\n",
       "      <td>0.777205</td>\n",
       "      <td>0.353011</td>\n",
       "      <td>0.885664</td>\n",
       "      <td>0.697927</td>\n",
       "      <td>...</td>\n",
       "      <td>-0.238872</td>\n",
       "      <td>-0.063554</td>\n",
       "      <td>-0.048936</td>\n",
       "      <td>-0.179562</td>\n",
       "      <td>-0.164487</td>\n",
       "      <td>-0.135371</td>\n",
       "      <td>-0.148806</td>\n",
       "      <td>-0.152222</td>\n",
       "      <td>-0.235339</td>\n",
       "      <td>-0.150057</td>\n",
       "    </tr>\n",
       "  </tbody>\n",
       "</table>\n",
       "<p>1 rows × 301218 columns</p>\n",
       "</div>"
      ],
      "text/plain": [
       "org_title      Inception  Interstellar    Avatar  The Avengers  Deadpool  \\\n",
       "thedarkknight   0.590218      0.673101  0.502956      0.630106  0.627943   \n",
       "\n",
       "org_title      Avengers: Infinity War  Fight Club  Guardians of the Galaxy  \\\n",
       "thedarkknight                0.732171    0.777205                 0.353011   \n",
       "\n",
       "org_title      Pulp Fiction  Forrest Gump  ...  Stævnemøde  \\\n",
       "thedarkknight      0.885664      0.697927  ...   -0.238872   \n",
       "\n",
       "org_title      Kirby at War: La Guerre De Kirby  Rathnan Prapancha  \\\n",
       "thedarkknight                         -0.063554          -0.048936   \n",
       "\n",
       "org_title      Iron Deficiency  \\\n",
       "thedarkknight        -0.179562   \n",
       "\n",
       "org_title      AVP The Monster Hydro Cup Day 2-1: Men’s Semi-Final 1 - Dalhausser and Lucena vs Tr. Crabb and Bourne  \\\n",
       "thedarkknight                                          -0.164487                                                       \n",
       "\n",
       "org_title      Hollow Water  Prison Circle  \\\n",
       "thedarkknight     -0.135371      -0.148806   \n",
       "\n",
       "org_title      Présidentielle, une épreuve d'artistes  Z Argentiny do Mexika  \\\n",
       "thedarkknight                               -0.152222              -0.235339   \n",
       "\n",
       "org_title       Don Gio  \n",
       "thedarkknight -0.150057  \n",
       "\n",
       "[1 rows x 301218 columns]"
      ]
     },
     "execution_count": 61,
     "metadata": {},
     "output_type": "execute_result"
    }
   ],
   "source": [
    "movie_name = 'the dark knight'\n",
    "movie_name=movie_name.strip().lower().replace(' ','')\n",
    "new_df= df_fin.loc[[movie_name]]\n",
    "new_df = new_df.values.reshape(1,-1)\n",
    "from sklearn.metrics.pairwise import cosine_similarity\n",
    "df_other = df_fin.loc[df_fin.index!=movie_name,:]\n",
    "df_titles = df.loc[df.index!=movie_name,'org_title']\n",
    "cosine_sim_matrix = cosine_similarity(new_df,df_other)\n",
    "cosine_sim_df = pd.DataFrame(cosine_sim_matrix,index=[movie_name],columns=df_titles)\n",
    "\n",
    "cosine_sim_df"
   ]
  },
  {
   "cell_type": "code",
   "execution_count": 62,
   "id": "ddb31496-97b5-4541-9a11-016e4114ba49",
   "metadata": {},
   "outputs": [],
   "source": [
    "sorted_row = cosine_sim_df.loc[movie_name].sort_values(ascending=False)[0:20]"
   ]
  },
  {
   "cell_type": "code",
   "execution_count": 64,
   "id": "aadc88b8-f0ba-4a2a-9bc8-0ed0e24e1501",
   "metadata": {},
   "outputs": [
    {
     "data": {
      "text/plain": [
       "Index(['Muzzle', 'The Equalizer', 'The Dark Knight Rises',\n",
       "       'John Wick: Chapter 2', 'John Wick: Chapter 3 - Parabellum'],\n",
       "      dtype='object', name='org_title')"
      ]
     },
     "execution_count": 64,
     "metadata": {},
     "output_type": "execute_result"
    }
   ],
   "source": [
    "sorted_row.index[:5]"
   ]
  },
  {
   "cell_type": "code",
   "execution_count": null,
   "id": "c5f77956-ed00-4d45-aaa5-097445896ac3",
   "metadata": {},
   "outputs": [],
   "source": []
  },
  {
   "cell_type": "code",
   "execution_count": null,
   "id": "78dffd95-30ba-4d58-86fa-9a7811a915d7",
   "metadata": {},
   "outputs": [],
   "source": []
  },
  {
   "cell_type": "code",
   "execution_count": null,
   "id": "1e703b4c-c033-4904-b992-ffdb48411d8a",
   "metadata": {},
   "outputs": [],
   "source": []
  },
  {
   "cell_type": "code",
   "execution_count": null,
   "id": "173530ee-6234-4663-af9d-9ddaed3ccacc",
   "metadata": {},
   "outputs": [],
   "source": []
  },
  {
   "cell_type": "code",
   "execution_count": null,
   "id": "5161c544-0c24-4b4c-a536-d53039d40b86",
   "metadata": {},
   "outputs": [],
   "source": []
  },
  {
   "cell_type": "code",
   "execution_count": null,
   "id": "11de6626-2583-4fb4-9d03-19f798742d64",
   "metadata": {},
   "outputs": [],
   "source": []
  },
  {
   "cell_type": "code",
   "execution_count": null,
   "id": "6a378de5-eb3e-473c-92a7-a602536502ff",
   "metadata": {},
   "outputs": [],
   "source": []
  },
  {
   "cell_type": "code",
   "execution_count": null,
   "id": "6717b1d9-0b80-4ff9-b9d6-9bd98b95ed03",
   "metadata": {},
   "outputs": [],
   "source": []
  },
  {
   "cell_type": "code",
   "execution_count": null,
   "id": "d071ade2-ffe4-46b6-95fb-cd6ffa526994",
   "metadata": {},
   "outputs": [],
   "source": []
  },
  {
   "cell_type": "code",
   "execution_count": null,
   "id": "9ce7c361-2504-4c1c-aec6-2ce8397a9f70",
   "metadata": {},
   "outputs": [],
   "source": []
  },
  {
   "cell_type": "code",
   "execution_count": null,
   "id": "8e0371b2-9562-41cc-9d18-f4c5899370f1",
   "metadata": {},
   "outputs": [],
   "source": []
  }
 ],
 "metadata": {
  "kernelspec": {
   "display_name": "Python 3 (ipykernel)",
   "language": "python",
   "name": "python3"
  },
  "language_info": {
   "codemirror_mode": {
    "name": "ipython",
    "version": 3
   },
   "file_extension": ".py",
   "mimetype": "text/x-python",
   "name": "python",
   "nbconvert_exporter": "python",
   "pygments_lexer": "ipython3",
   "version": "3.12.3"
  }
 },
 "nbformat": 4,
 "nbformat_minor": 5
}
